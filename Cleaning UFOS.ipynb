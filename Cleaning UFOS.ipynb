{
 "cells": [
  {
   "attachments": {},
   "cell_type": "markdown",
   "metadata": {},
   "source": [
    "# PROJECT #3.\n",
    "CLEANING SCRUBBED.CVS DATA"
   ]
  },
  {
   "cell_type": "code",
   "execution_count": 3,
   "metadata": {
    "collapsed": true
   },
   "outputs": [],
   "source": [
    "# Import Dependencies\n",
    "import pandas as pd\n",
    "import datetime as dt\n",
    "from datetime import datetime\n",
    "from datetime import date\n",
    "import sqlalchemy"
   ]
  },
  {
   "cell_type": "code",
   "execution_count": 4,
   "metadata": {},
   "outputs": [
    {
     "name": "stderr",
     "output_type": "stream",
     "text": [
      "C:\\Users\\Celvir\\AppData\\Local\\Temp\\ipykernel_4796\\2275471134.py:4: DtypeWarning: Columns (5,9) have mixed types. Specify dtype option on import or set low_memory=False.\n",
      "  df = pd.read_csv(file, encoding=\"UTF-8\")\n"
     ]
    },
    {
     "data": {
      "text/html": [
       "<div>\n",
       "<style scoped>\n",
       "    .dataframe tbody tr th:only-of-type {\n",
       "        vertical-align: middle;\n",
       "    }\n",
       "\n",
       "    .dataframe tbody tr th {\n",
       "        vertical-align: top;\n",
       "    }\n",
       "\n",
       "    .dataframe thead th {\n",
       "        text-align: right;\n",
       "    }\n",
       "</style>\n",
       "<table border=\"1\" class=\"dataframe\">\n",
       "  <thead>\n",
       "    <tr style=\"text-align: right;\">\n",
       "      <th></th>\n",
       "      <th>datetime</th>\n",
       "      <th>city</th>\n",
       "      <th>state</th>\n",
       "      <th>country</th>\n",
       "      <th>shape</th>\n",
       "      <th>duration (seconds)</th>\n",
       "      <th>duration (hours/min)</th>\n",
       "      <th>comments</th>\n",
       "      <th>date posted</th>\n",
       "      <th>latitude</th>\n",
       "      <th>longitude</th>\n",
       "    </tr>\n",
       "  </thead>\n",
       "  <tbody>\n",
       "    <tr>\n",
       "      <th>0</th>\n",
       "      <td>10/10/1949 20:30</td>\n",
       "      <td>san marcos</td>\n",
       "      <td>tx</td>\n",
       "      <td>us</td>\n",
       "      <td>cylinder</td>\n",
       "      <td>2700</td>\n",
       "      <td>45 minutes</td>\n",
       "      <td>This event took place in early fall around 194...</td>\n",
       "      <td>4/27/2004</td>\n",
       "      <td>29.8830556</td>\n",
       "      <td>-97.941111</td>\n",
       "    </tr>\n",
       "    <tr>\n",
       "      <th>1</th>\n",
       "      <td>10/10/1949 21:00</td>\n",
       "      <td>lackland afb</td>\n",
       "      <td>tx</td>\n",
       "      <td>NaN</td>\n",
       "      <td>light</td>\n",
       "      <td>7200</td>\n",
       "      <td>1-2 hrs</td>\n",
       "      <td>1949 Lackland AFB&amp;#44 TX.  Lights racing acros...</td>\n",
       "      <td>12/16/2005</td>\n",
       "      <td>29.38421</td>\n",
       "      <td>-98.581082</td>\n",
       "    </tr>\n",
       "    <tr>\n",
       "      <th>2</th>\n",
       "      <td>10/10/1955 17:00</td>\n",
       "      <td>chester (uk/england)</td>\n",
       "      <td>NaN</td>\n",
       "      <td>gb</td>\n",
       "      <td>circle</td>\n",
       "      <td>20</td>\n",
       "      <td>20 seconds</td>\n",
       "      <td>Green/Orange circular disc over Chester&amp;#44 En...</td>\n",
       "      <td>1/21/2008</td>\n",
       "      <td>53.2</td>\n",
       "      <td>-2.916667</td>\n",
       "    </tr>\n",
       "    <tr>\n",
       "      <th>3</th>\n",
       "      <td>10/10/1956 21:00</td>\n",
       "      <td>edna</td>\n",
       "      <td>tx</td>\n",
       "      <td>us</td>\n",
       "      <td>circle</td>\n",
       "      <td>20</td>\n",
       "      <td>1/2 hour</td>\n",
       "      <td>My older brother and twin sister were leaving ...</td>\n",
       "      <td>1/17/2004</td>\n",
       "      <td>28.9783333</td>\n",
       "      <td>-96.645833</td>\n",
       "    </tr>\n",
       "    <tr>\n",
       "      <th>4</th>\n",
       "      <td>10/10/1960 20:00</td>\n",
       "      <td>kaneohe</td>\n",
       "      <td>hi</td>\n",
       "      <td>us</td>\n",
       "      <td>light</td>\n",
       "      <td>900</td>\n",
       "      <td>15 minutes</td>\n",
       "      <td>AS a Marine 1st Lt. flying an FJ4B fighter/att...</td>\n",
       "      <td>1/22/2004</td>\n",
       "      <td>21.4180556</td>\n",
       "      <td>-157.803611</td>\n",
       "    </tr>\n",
       "  </tbody>\n",
       "</table>\n",
       "</div>"
      ],
      "text/plain": [
       "           datetime                  city state country     shape  \\\n",
       "0  10/10/1949 20:30            san marcos    tx      us  cylinder   \n",
       "1  10/10/1949 21:00          lackland afb    tx     NaN     light   \n",
       "2  10/10/1955 17:00  chester (uk/england)   NaN      gb    circle   \n",
       "3  10/10/1956 21:00                  edna    tx      us    circle   \n",
       "4  10/10/1960 20:00               kaneohe    hi      us     light   \n",
       "\n",
       "  duration (seconds) duration (hours/min)  \\\n",
       "0               2700           45 minutes   \n",
       "1               7200              1-2 hrs   \n",
       "2                 20           20 seconds   \n",
       "3                 20             1/2 hour   \n",
       "4                900           15 minutes   \n",
       "\n",
       "                                            comments date posted    latitude  \\\n",
       "0  This event took place in early fall around 194...   4/27/2004  29.8830556   \n",
       "1  1949 Lackland AFB&#44 TX.  Lights racing acros...  12/16/2005    29.38421   \n",
       "2  Green/Orange circular disc over Chester&#44 En...   1/21/2008        53.2   \n",
       "3  My older brother and twin sister were leaving ...   1/17/2004  28.9783333   \n",
       "4  AS a Marine 1st Lt. flying an FJ4B fighter/att...   1/22/2004  21.4180556   \n",
       "\n",
       "   longitude   \n",
       "0  -97.941111  \n",
       "1  -98.581082  \n",
       "2   -2.916667  \n",
       "3  -96.645833  \n",
       "4 -157.803611  "
      ]
     },
     "execution_count": 4,
     "metadata": {},
     "output_type": "execute_result"
    }
   ],
   "source": [
    "# Name of the CSV file\n",
    "file = 'scrubbed.csv'\n",
    "#Read the file\n",
    "df = pd.read_csv(file, encoding=\"UTF-8\")\n",
    "# Preview of the DataFrame\n",
    "df.head()"
   ]
  },
  {
   "cell_type": "code",
   "execution_count": 5,
   "metadata": {},
   "outputs": [
    {
     "data": {
      "text/plain": [
       "Index(['datetime', 'city', 'state', 'country', 'shape', 'duration(seconds)',\n",
       "       'duration(hours/min)', 'comments', 'dateposted', 'latitude',\n",
       "       'longitude'],\n",
       "      dtype='object')"
      ]
     },
     "execution_count": 5,
     "metadata": {},
     "output_type": "execute_result"
    }
   ],
   "source": [
    "# Remove blancks in columns\n",
    "df.columns = df.columns.str.replace(' ', '')\n",
    "df.columns"
   ]
  },
  {
   "cell_type": "code",
   "execution_count": 6,
   "metadata": {},
   "outputs": [
    {
     "data": {
      "text/html": [
       "<div>\n",
       "<style scoped>\n",
       "    .dataframe tbody tr th:only-of-type {\n",
       "        vertical-align: middle;\n",
       "    }\n",
       "\n",
       "    .dataframe tbody tr th {\n",
       "        vertical-align: top;\n",
       "    }\n",
       "\n",
       "    .dataframe thead th {\n",
       "        text-align: right;\n",
       "    }\n",
       "</style>\n",
       "<table border=\"1\" class=\"dataframe\">\n",
       "  <thead>\n",
       "    <tr style=\"text-align: right;\">\n",
       "      <th></th>\n",
       "      <th>date_ocurrence</th>\n",
       "      <th>city</th>\n",
       "      <th>state</th>\n",
       "      <th>country</th>\n",
       "      <th>shape</th>\n",
       "      <th>duration_seconds</th>\n",
       "      <th>duration_hours_min</th>\n",
       "      <th>comments</th>\n",
       "      <th>date_posted</th>\n",
       "      <th>latitude</th>\n",
       "      <th>longitude</th>\n",
       "    </tr>\n",
       "  </thead>\n",
       "  <tbody>\n",
       "    <tr>\n",
       "      <th>0</th>\n",
       "      <td>10/10/1949 20:30</td>\n",
       "      <td>san marcos</td>\n",
       "      <td>tx</td>\n",
       "      <td>us</td>\n",
       "      <td>cylinder</td>\n",
       "      <td>2700</td>\n",
       "      <td>45 minutes</td>\n",
       "      <td>This event took place in early fall around 194...</td>\n",
       "      <td>4/27/2004</td>\n",
       "      <td>29.8830556</td>\n",
       "      <td>-97.941111</td>\n",
       "    </tr>\n",
       "    <tr>\n",
       "      <th>1</th>\n",
       "      <td>10/10/1949 21:00</td>\n",
       "      <td>lackland afb</td>\n",
       "      <td>tx</td>\n",
       "      <td>NaN</td>\n",
       "      <td>light</td>\n",
       "      <td>7200</td>\n",
       "      <td>1-2 hrs</td>\n",
       "      <td>1949 Lackland AFB&amp;#44 TX.  Lights racing acros...</td>\n",
       "      <td>12/16/2005</td>\n",
       "      <td>29.38421</td>\n",
       "      <td>-98.581082</td>\n",
       "    </tr>\n",
       "    <tr>\n",
       "      <th>2</th>\n",
       "      <td>10/10/1955 17:00</td>\n",
       "      <td>chester (uk/england)</td>\n",
       "      <td>NaN</td>\n",
       "      <td>gb</td>\n",
       "      <td>circle</td>\n",
       "      <td>20</td>\n",
       "      <td>20 seconds</td>\n",
       "      <td>Green/Orange circular disc over Chester&amp;#44 En...</td>\n",
       "      <td>1/21/2008</td>\n",
       "      <td>53.2</td>\n",
       "      <td>-2.916667</td>\n",
       "    </tr>\n",
       "    <tr>\n",
       "      <th>3</th>\n",
       "      <td>10/10/1956 21:00</td>\n",
       "      <td>edna</td>\n",
       "      <td>tx</td>\n",
       "      <td>us</td>\n",
       "      <td>circle</td>\n",
       "      <td>20</td>\n",
       "      <td>1/2 hour</td>\n",
       "      <td>My older brother and twin sister were leaving ...</td>\n",
       "      <td>1/17/2004</td>\n",
       "      <td>28.9783333</td>\n",
       "      <td>-96.645833</td>\n",
       "    </tr>\n",
       "    <tr>\n",
       "      <th>4</th>\n",
       "      <td>10/10/1960 20:00</td>\n",
       "      <td>kaneohe</td>\n",
       "      <td>hi</td>\n",
       "      <td>us</td>\n",
       "      <td>light</td>\n",
       "      <td>900</td>\n",
       "      <td>15 minutes</td>\n",
       "      <td>AS a Marine 1st Lt. flying an FJ4B fighter/att...</td>\n",
       "      <td>1/22/2004</td>\n",
       "      <td>21.4180556</td>\n",
       "      <td>-157.803611</td>\n",
       "    </tr>\n",
       "  </tbody>\n",
       "</table>\n",
       "</div>"
      ],
      "text/plain": [
       "     date_ocurrence                  city state country     shape  \\\n",
       "0  10/10/1949 20:30            san marcos    tx      us  cylinder   \n",
       "1  10/10/1949 21:00          lackland afb    tx     NaN     light   \n",
       "2  10/10/1955 17:00  chester (uk/england)   NaN      gb    circle   \n",
       "3  10/10/1956 21:00                  edna    tx      us    circle   \n",
       "4  10/10/1960 20:00               kaneohe    hi      us     light   \n",
       "\n",
       "  duration_seconds duration_hours_min  \\\n",
       "0             2700         45 minutes   \n",
       "1             7200            1-2 hrs   \n",
       "2               20         20 seconds   \n",
       "3               20           1/2 hour   \n",
       "4              900         15 minutes   \n",
       "\n",
       "                                            comments date_posted    latitude  \\\n",
       "0  This event took place in early fall around 194...   4/27/2004  29.8830556   \n",
       "1  1949 Lackland AFB&#44 TX.  Lights racing acros...  12/16/2005    29.38421   \n",
       "2  Green/Orange circular disc over Chester&#44 En...   1/21/2008        53.2   \n",
       "3  My older brother and twin sister were leaving ...   1/17/2004  28.9783333   \n",
       "4  AS a Marine 1st Lt. flying an FJ4B fighter/att...   1/22/2004  21.4180556   \n",
       "\n",
       "    longitude  \n",
       "0  -97.941111  \n",
       "1  -98.581082  \n",
       "2   -2.916667  \n",
       "3  -96.645833  \n",
       "4 -157.803611  "
      ]
     },
     "execution_count": 6,
     "metadata": {},
     "output_type": "execute_result"
    }
   ],
   "source": [
    "#Rename columns\n",
    "df.rename(columns={'duration(seconds)':'duration_seconds',\n",
    "            'datetime':'date_ocurrence',\n",
    "           'duration(hours/min)':'duration_hours_min',\n",
    "           'dateposted':'date_posted'}\n",
    "           , inplace=True)\n",
    "df.head()"
   ]
  },
  {
   "cell_type": "code",
   "execution_count": 7,
   "metadata": {},
   "outputs": [
    {
     "data": {
      "text/plain": [
       "date_ocurrence         object\n",
       "city                   object\n",
       "state                  object\n",
       "country                object\n",
       "shape                  object\n",
       "duration_seconds       object\n",
       "duration_hours_min     object\n",
       "comments               object\n",
       "date_posted            object\n",
       "latitude               object\n",
       "longitude             float64\n",
       "dtype: object"
      ]
     },
     "execution_count": 7,
     "metadata": {},
     "output_type": "execute_result"
    }
   ],
   "source": [
    "df.dtypes"
   ]
  },
  {
   "cell_type": "code",
   "execution_count": 21,
   "metadata": {},
   "outputs": [],
   "source": [
    "states=['AL','AK','AZ','AR','AS','CA','CO','CT','DE','DC','FL','GA','GU','HI','ID','IL','IN','IA','KS','KY','LA','ME','MD',\n",
    "        'MA','MI','MN','MS','MO','MT','NE','NV','NH','NJ','NM','NY','NC','ND','MP','OH','OK','OR','PA','PR','RI','SC','SD',\n",
    "        'TN','tx','TT','UT','VT','VA','VI','WA','WV','WI','WY']"
   ]
  },
  {
   "cell_type": "code",
   "execution_count": 19,
   "metadata": {},
   "outputs": [
    {
     "data": {
      "text/html": [
       "<div>\n",
       "<style scoped>\n",
       "    .dataframe tbody tr th:only-of-type {\n",
       "        vertical-align: middle;\n",
       "    }\n",
       "\n",
       "    .dataframe tbody tr th {\n",
       "        vertical-align: top;\n",
       "    }\n",
       "\n",
       "    .dataframe thead th {\n",
       "        text-align: right;\n",
       "    }\n",
       "</style>\n",
       "<table border=\"1\" class=\"dataframe\">\n",
       "  <thead>\n",
       "    <tr style=\"text-align: right;\">\n",
       "      <th></th>\n",
       "      <th>date_ocurrence</th>\n",
       "      <th>city</th>\n",
       "      <th>state</th>\n",
       "      <th>country</th>\n",
       "      <th>shape</th>\n",
       "      <th>duration_seconds</th>\n",
       "      <th>duration_hours_min</th>\n",
       "      <th>comments</th>\n",
       "      <th>date_posted</th>\n",
       "      <th>latitude</th>\n",
       "      <th>longitude</th>\n",
       "    </tr>\n",
       "  </thead>\n",
       "  <tbody>\n",
       "  </tbody>\n",
       "</table>\n",
       "</div>"
      ],
      "text/plain": [
       "Empty DataFrame\n",
       "Columns: [date_ocurrence, city, state, country, shape, duration_seconds, duration_hours_min, comments, date_posted, latitude, longitude]\n",
       "Index: []"
      ]
     },
     "execution_count": 19,
     "metadata": {},
     "output_type": "execute_result"
    }
   ],
   "source": [
    "country_df=df.loc(df[\"country\"] == )\n",
    "country_df"
   ]
  },
  {
   "cell_type": "code",
   "execution_count": 22,
   "metadata": {},
   "outputs": [
    {
     "name": "stdout",
     "output_type": "stream",
     "text": [
      "         date_ocurrence          city state country      shape  \\\n",
      "0      10/10/1949 20:30    san marcos    tx      us   cylinder   \n",
      "1      10/10/1949 21:00  lackland afb    tx     NaN      light   \n",
      "3      10/10/1956 21:00          edna    tx      us     circle   \n",
      "25     10/10/1977 12:00   san antonio    tx      us      other   \n",
      "32     10/10/1980 19:00       houston    tx      us     sphere   \n",
      "...                 ...           ...   ...     ...        ...   \n",
      "80229    9/9/2008 20:00       el paso    tx      us      light   \n",
      "80240    9/9/2009 19:32    fort worth    tx      us     circle   \n",
      "80268    9/9/2010 21:00        austin    tx      us      light   \n",
      "80292     9/9/2012 9:14  rancho viejo    tx      us  formation   \n",
      "80317    9/9/2013 12:34    cedar park    tx      us      cigar   \n",
      "\n",
      "      duration_seconds duration_hours_min  \\\n",
      "0                 2700         45 minutes   \n",
      "1                 7200            1-2 hrs   \n",
      "3                   20           1/2 hour   \n",
      "25                  30         30 seconds   \n",
      "32                 180              3 min   \n",
      "...                ...                ...   \n",
      "80229           2700.0             45 min   \n",
      "80240            600.0           10 mins.   \n",
      "80268            120.0          2 minutes   \n",
      "80292            120.0        2 minutes +   \n",
      "80317              8.0        5-8 seconds   \n",
      "\n",
      "                                                comments date_posted  \\\n",
      "0      This event took place in early fall around 194...   4/27/2004   \n",
      "1      1949 Lackland AFB&#44 TX.  Lights racing acros...  12/16/2005   \n",
      "3      My older brother and twin sister were leaving ...   1/17/2004   \n",
      "25     i was about six or seven and my family and me ...   2/24/2005   \n",
      "32     Sphere&#44 No lights&#44  moving through neigh...   4/16/2005   \n",
      "...                                                  ...         ...   \n",
      "80229  Bright light seen hovering over the western sk...  10/31/2008   \n",
      "80240  Black round silent object moving slowly to nor...  12/12/2009   \n",
      "80268  Two tiny objects (like dim stars)  fly overhea...  11/21/2010   \n",
      "80292  2 objects moving together or maybe one huge ob...   9/24/2012   \n",
      "80317  Cigar Shaped Object Descending in the Directio...    9/9/2013   \n",
      "\n",
      "         latitude   longitude  \n",
      "0      29.8830556  -97.941111  \n",
      "1        29.38421  -98.581082  \n",
      "3      28.9783333  -96.645833  \n",
      "25     29.4238889  -98.493333  \n",
      "32     29.7630556  -95.363056  \n",
      "...           ...         ...  \n",
      "80229   31.758611 -106.486389  \n",
      "80240   32.725278  -97.320556  \n",
      "80268   30.266944  -97.742778  \n",
      "80292   26.039167  -97.556111  \n",
      "80317      30.505  -97.820000  \n",
      "\n",
      "[3677 rows x 11 columns]\n"
     ]
    }
   ],
   "source": [
    "test_df=df.loc[df[\"state\"].isin(states)]\n",
    "print(test_df)\n"
   ]
  },
  {
   "cell_type": "code",
   "execution_count": 102,
   "metadata": {},
   "outputs": [
    {
     "data": {
      "text/html": [
       "<div>\n",
       "<style scoped>\n",
       "    .dataframe tbody tr th:only-of-type {\n",
       "        vertical-align: middle;\n",
       "    }\n",
       "\n",
       "    .dataframe tbody tr th {\n",
       "        vertical-align: top;\n",
       "    }\n",
       "\n",
       "    .dataframe thead th {\n",
       "        text-align: right;\n",
       "    }\n",
       "</style>\n",
       "<table border=\"1\" class=\"dataframe\">\n",
       "  <thead>\n",
       "    <tr style=\"text-align: right;\">\n",
       "      <th></th>\n",
       "      <th>date_ocurrence</th>\n",
       "      <th>city</th>\n",
       "      <th>state</th>\n",
       "      <th>country</th>\n",
       "      <th>shape</th>\n",
       "      <th>duration_seconds</th>\n",
       "      <th>duration_hours_min</th>\n",
       "      <th>comments</th>\n",
       "      <th>date_posted</th>\n",
       "      <th>latitude</th>\n",
       "      <th>longitude</th>\n",
       "    </tr>\n",
       "  </thead>\n",
       "  <tbody>\n",
       "    <tr>\n",
       "      <th>43782</th>\n",
       "      <td>5/22/1974 5:30</td>\n",
       "      <td>mescalero indian reservation</td>\n",
       "      <td>nm</td>\n",
       "      <td>NaN</td>\n",
       "      <td>rectangle</td>\n",
       "      <td>180</td>\n",
       "      <td>two hours</td>\n",
       "      <td>Huge rectangular object emmitting intense whit...</td>\n",
       "      <td>4/18/2012</td>\n",
       "      <td>33q.200088</td>\n",
       "      <td>-105.624152</td>\n",
       "    </tr>\n",
       "  </tbody>\n",
       "</table>\n",
       "</div>"
      ],
      "text/plain": [
       "       date_ocurrence                          city state country      shape  \\\n",
       "43782  5/22/1974 5:30  mescalero indian reservation    nm     NaN  rectangle   \n",
       "\n",
       "      duration_seconds duration_hours_min  \\\n",
       "43782              180          two hours   \n",
       "\n",
       "                                                comments date_posted  \\\n",
       "43782  Huge rectangular object emmitting intense whit...   4/18/2012   \n",
       "\n",
       "         latitude   longitude  \n",
       "43782  33q.200088 -105.624152  "
      ]
     },
     "execution_count": 102,
     "metadata": {},
     "output_type": "execute_result"
    }
   ],
   "source": [
    "#Clean the typo in latitude\n",
    "df[df[\"latitude\"] == \"33q.200088\"]"
   ]
  },
  {
   "cell_type": "code",
   "execution_count": 103,
   "metadata": {},
   "outputs": [
    {
     "data": {
      "text/plain": [
       "33.200088"
      ]
     },
     "execution_count": 103,
     "metadata": {},
     "output_type": "execute_result"
    }
   ],
   "source": [
    "df.at[43782,'latitude']=33.200088\n",
    "df.at[43782,'latitude']"
   ]
  },
  {
   "cell_type": "code",
   "execution_count": null,
   "metadata": {},
   "outputs": [],
   "source": []
  },
  {
   "cell_type": "code",
   "execution_count": 104,
   "metadata": {},
   "outputs": [],
   "source": [
    "df['duration_seconds'] = df['duration_seconds'].str.replace('`','')"
   ]
  },
  {
   "cell_type": "code",
   "execution_count": 105,
   "metadata": {},
   "outputs": [],
   "source": [
    "#Convert duration_seconds to float\n",
    "df['duration_seconds']= df['duration_seconds'].astype(float)"
   ]
  },
  {
   "cell_type": "code",
   "execution_count": 106,
   "metadata": {},
   "outputs": [],
   "source": [
    "#Convert latitude to float\n",
    "df['latitude']= df['latitude'].astype(float)"
   ]
  },
  {
   "cell_type": "code",
   "execution_count": 107,
   "metadata": {},
   "outputs": [
    {
     "data": {
      "text/plain": [
       "0       1949-10-10 20:30:00\n",
       "1       1949-10-10 21:00:00\n",
       "2       1955-10-10 17:00:00\n",
       "3       1956-10-10 21:00:00\n",
       "4       1960-10-10 20:00:00\n",
       "                ...        \n",
       "80327   2013-09-09 21:15:00\n",
       "80328   2013-09-09 22:00:00\n",
       "80329   2013-09-09 22:00:00\n",
       "80330   2013-09-09 22:20:00\n",
       "80331   2013-09-09 23:00:00\n",
       "Name: date_ocurrence, Length: 80332, dtype: datetime64[ns]"
      ]
     },
     "execution_count": 107,
     "metadata": {},
     "output_type": "execute_result"
    }
   ],
   "source": [
    "#covert date_posted and datetime to dates\n",
    "df['date_ocurrence'] = pd.to_datetime(df['date_ocurrence'])\n",
    "df['date_ocurrence']"
   ]
  },
  {
   "cell_type": "code",
   "execution_count": 108,
   "metadata": {},
   "outputs": [
    {
     "data": {
      "text/plain": [
       "0       2004-04-27\n",
       "1       2005-12-16\n",
       "2       2008-01-21\n",
       "3       2004-01-17\n",
       "4       2004-01-22\n",
       "           ...    \n",
       "80327   2013-09-30\n",
       "80328   2013-09-30\n",
       "80329   2013-09-30\n",
       "80330   2013-09-30\n",
       "80331   2013-09-30\n",
       "Name: date_posted, Length: 80332, dtype: datetime64[ns]"
      ]
     },
     "execution_count": 108,
     "metadata": {},
     "output_type": "execute_result"
    }
   ],
   "source": [
    "df['date_posted'] = pd.to_datetime(df['date_posted'])\n",
    "df['date_posted']"
   ]
  },
  {
   "cell_type": "code",
   "execution_count": 109,
   "metadata": {},
   "outputs": [
    {
     "data": {
      "text/plain": [
       "date_ocurrence        datetime64[ns]\n",
       "city                          object\n",
       "state                         object\n",
       "country                       object\n",
       "shape                         object\n",
       "duration_seconds             float64\n",
       "duration_hours_min            object\n",
       "comments                      object\n",
       "date_posted           datetime64[ns]\n",
       "latitude                     float64\n",
       "longitude                    float64\n",
       "dtype: object"
      ]
     },
     "execution_count": 109,
     "metadata": {},
     "output_type": "execute_result"
    }
   ],
   "source": [
    "df.dtypes"
   ]
  },
  {
   "cell_type": "code",
   "execution_count": 110,
   "metadata": {},
   "outputs": [
    {
     "data": {
      "text/plain": [
       "date_ocurrence        80332\n",
       "city                  80332\n",
       "state                 74535\n",
       "country               70662\n",
       "shape                 78400\n",
       "duration_seconds      65536\n",
       "duration_hours_min    80332\n",
       "comments              80317\n",
       "date_posted           80332\n",
       "latitude              80332\n",
       "longitude             80332\n",
       "dtype: int64"
      ]
     },
     "execution_count": 110,
     "metadata": {},
     "output_type": "execute_result"
    }
   ],
   "source": [
    "df.count()"
   ]
  },
  {
   "cell_type": "code",
   "execution_count": 111,
   "metadata": {},
   "outputs": [
    {
     "data": {
      "text/plain": [
       "seattle                                  525\n",
       "phoenix                                  454\n",
       "portland                                 374\n",
       "las vegas                                368\n",
       "los angeles                              353\n",
       "                                        ... \n",
       "playa del cura (grand canaria island)      1\n",
       "livermore/pleasonton (area)                1\n",
       "hamburg (germany)                          1\n",
       "cole camp                                  1\n",
       "hamstead (hollyridge)                      1\n",
       "Name: city, Length: 19900, dtype: int64"
      ]
     },
     "execution_count": 111,
     "metadata": {},
     "output_type": "execute_result"
    }
   ],
   "source": [
    "df['city'].value_counts()\n"
   ]
  },
  {
   "cell_type": "code",
   "execution_count": 112,
   "metadata": {},
   "outputs": [
    {
     "data": {
      "text/html": [
       "<div>\n",
       "<style scoped>\n",
       "    .dataframe tbody tr th:only-of-type {\n",
       "        vertical-align: middle;\n",
       "    }\n",
       "\n",
       "    .dataframe tbody tr th {\n",
       "        vertical-align: top;\n",
       "    }\n",
       "\n",
       "    .dataframe thead th {\n",
       "        text-align: right;\n",
       "    }\n",
       "</style>\n",
       "<table border=\"1\" class=\"dataframe\">\n",
       "  <thead>\n",
       "    <tr style=\"text-align: right;\">\n",
       "      <th></th>\n",
       "      <th>date_ocurrence</th>\n",
       "      <th>city</th>\n",
       "      <th>state</th>\n",
       "      <th>country</th>\n",
       "      <th>shape</th>\n",
       "      <th>duration_seconds</th>\n",
       "      <th>duration_hours_min</th>\n",
       "      <th>comments</th>\n",
       "      <th>date_posted</th>\n",
       "      <th>latitude</th>\n",
       "      <th>longitude</th>\n",
       "    </tr>\n",
       "  </thead>\n",
       "  <tbody>\n",
       "    <tr>\n",
       "      <th>80324</th>\n",
       "      <td>2013-09-09 21:00:00</td>\n",
       "      <td>hamstead (hollyridge)</td>\n",
       "      <td>nc</td>\n",
       "      <td>NaN</td>\n",
       "      <td>light</td>\n",
       "      <td>NaN</td>\n",
       "      <td>2 minutes</td>\n",
       "      <td>8 to ten lights bright orange in color large t...</td>\n",
       "      <td>2013-09-30</td>\n",
       "      <td>34.367594</td>\n",
       "      <td>-77.710548</td>\n",
       "    </tr>\n",
       "  </tbody>\n",
       "</table>\n",
       "</div>"
      ],
      "text/plain": [
       "           date_ocurrence                   city state country  shape  \\\n",
       "80324 2013-09-09 21:00:00  hamstead (hollyridge)    nc     NaN  light   \n",
       "\n",
       "       duration_seconds duration_hours_min  \\\n",
       "80324               NaN          2 minutes   \n",
       "\n",
       "                                                comments date_posted  \\\n",
       "80324  8 to ten lights bright orange in color large t...  2013-09-30   \n",
       "\n",
       "        latitude  longitude  \n",
       "80324  34.367594 -77.710548  "
      ]
     },
     "execution_count": 112,
     "metadata": {},
     "output_type": "execute_result"
    }
   ],
   "source": [
    "#example:\n",
    "df[df['city'] == \"hamstead (hollyridge)\"]"
   ]
  },
  {
   "cell_type": "code",
   "execution_count": 113,
   "metadata": {},
   "outputs": [
    {
     "data": {
      "text/html": [
       "<div>\n",
       "<style scoped>\n",
       "    .dataframe tbody tr th:only-of-type {\n",
       "        vertical-align: middle;\n",
       "    }\n",
       "\n",
       "    .dataframe tbody tr th {\n",
       "        vertical-align: top;\n",
       "    }\n",
       "\n",
       "    .dataframe thead th {\n",
       "        text-align: right;\n",
       "    }\n",
       "</style>\n",
       "<table border=\"1\" class=\"dataframe\">\n",
       "  <thead>\n",
       "    <tr style=\"text-align: right;\">\n",
       "      <th></th>\n",
       "      <th>date_ocurrence</th>\n",
       "      <th>city</th>\n",
       "      <th>state</th>\n",
       "      <th>country</th>\n",
       "      <th>shape</th>\n",
       "      <th>duration_seconds</th>\n",
       "      <th>duration_hours_min</th>\n",
       "      <th>comments</th>\n",
       "      <th>date_posted</th>\n",
       "      <th>latitude</th>\n",
       "      <th>longitude</th>\n",
       "    </tr>\n",
       "  </thead>\n",
       "  <tbody>\n",
       "    <tr>\n",
       "      <th>1734</th>\n",
       "      <td>1967-10-15 21:00:00</td>\n",
       "      <td>hampstead</td>\n",
       "      <td>nc</td>\n",
       "      <td>us</td>\n",
       "      <td>disk</td>\n",
       "      <td>300.0</td>\n",
       "      <td>5 minutes</td>\n",
       "      <td>Hampstead North Carolina disk 1967</td>\n",
       "      <td>2012-12-20</td>\n",
       "      <td>34.367500</td>\n",
       "      <td>-77.710833</td>\n",
       "    </tr>\n",
       "    <tr>\n",
       "      <th>13610</th>\n",
       "      <td>1998-11-29 01:50:00</td>\n",
       "      <td>hampstead</td>\n",
       "      <td>nc</td>\n",
       "      <td>us</td>\n",
       "      <td>fireball</td>\n",
       "      <td>18.0</td>\n",
       "      <td>18seconds</td>\n",
       "      <td>As we steped out of our car we saw a fireball ...</td>\n",
       "      <td>1999-01-28</td>\n",
       "      <td>34.367500</td>\n",
       "      <td>-77.710833</td>\n",
       "    </tr>\n",
       "    <tr>\n",
       "      <th>13892</th>\n",
       "      <td>2013-11-30 18:00:00</td>\n",
       "      <td>hampstead</td>\n",
       "      <td>nh</td>\n",
       "      <td>us</td>\n",
       "      <td>sphere</td>\n",
       "      <td>900.0</td>\n",
       "      <td>15 minutes</td>\n",
       "      <td>3 red spheres&amp;#44 low hovering over lake. Move...</td>\n",
       "      <td>2013-12-02</td>\n",
       "      <td>42.874444</td>\n",
       "      <td>-71.181667</td>\n",
       "    </tr>\n",
       "    <tr>\n",
       "      <th>14113</th>\n",
       "      <td>2008-01-13 05:20:00</td>\n",
       "      <td>hampstead</td>\n",
       "      <td>nh</td>\n",
       "      <td>us</td>\n",
       "      <td>light</td>\n",
       "      <td>120.0</td>\n",
       "      <td>2 minutes</td>\n",
       "      <td>Bright Light In Sky Over Rockingham County&amp;#44 NH</td>\n",
       "      <td>2008-01-21</td>\n",
       "      <td>42.874444</td>\n",
       "      <td>-71.181667</td>\n",
       "    </tr>\n",
       "    <tr>\n",
       "      <th>14173</th>\n",
       "      <td>2011-01-13 07:30:00</td>\n",
       "      <td>hampstead</td>\n",
       "      <td>nh</td>\n",
       "      <td>us</td>\n",
       "      <td>circle</td>\n",
       "      <td>180.0</td>\n",
       "      <td>3 minutes</td>\n",
       "      <td>Round shiny extremely bright almost silver-loo...</td>\n",
       "      <td>2011-01-31</td>\n",
       "      <td>42.874444</td>\n",
       "      <td>-71.181667</td>\n",
       "    </tr>\n",
       "    <tr>\n",
       "      <th>21011</th>\n",
       "      <td>2005-12-28 15:30:00</td>\n",
       "      <td>hampstead</td>\n",
       "      <td>nh</td>\n",
       "      <td>us</td>\n",
       "      <td>sphere</td>\n",
       "      <td>1200.0</td>\n",
       "      <td>20 mins</td>\n",
       "      <td>2 ballon shaped objects came close and then se...</td>\n",
       "      <td>2006-03-11</td>\n",
       "      <td>42.874444</td>\n",
       "      <td>-71.181667</td>\n",
       "    </tr>\n",
       "    <tr>\n",
       "      <th>42919</th>\n",
       "      <td>2009-05-17 22:00:00</td>\n",
       "      <td>hampstead</td>\n",
       "      <td>nc</td>\n",
       "      <td>us</td>\n",
       "      <td>triangle</td>\n",
       "      <td>300.0</td>\n",
       "      <td>5 minutes</td>\n",
       "      <td>Star Destroyer shaped ufo low in the night sky...</td>\n",
       "      <td>2009-12-12</td>\n",
       "      <td>34.367500</td>\n",
       "      <td>-77.710833</td>\n",
       "    </tr>\n",
       "    <tr>\n",
       "      <th>44222</th>\n",
       "      <td>1991-05-25 21:00:00</td>\n",
       "      <td>hampstead</td>\n",
       "      <td>nh</td>\n",
       "      <td>us</td>\n",
       "      <td>disk</td>\n",
       "      <td>120.0</td>\n",
       "      <td>2 min</td>\n",
       "      <td>It sailed through the sky directly above our b...</td>\n",
       "      <td>2003-12-19</td>\n",
       "      <td>42.874444</td>\n",
       "      <td>-71.181667</td>\n",
       "    </tr>\n",
       "    <tr>\n",
       "      <th>53410</th>\n",
       "      <td>2013-06-03 09:34:00</td>\n",
       "      <td>hampstead</td>\n",
       "      <td>nh</td>\n",
       "      <td>us</td>\n",
       "      <td>triangle</td>\n",
       "      <td>3.0</td>\n",
       "      <td>3 seconds</td>\n",
       "      <td>Green cloudy light shooting across the sky</td>\n",
       "      <td>2013-07-03</td>\n",
       "      <td>42.874444</td>\n",
       "      <td>-71.181667</td>\n",
       "    </tr>\n",
       "    <tr>\n",
       "      <th>58460</th>\n",
       "      <td>2012-07-20 09:55:00</td>\n",
       "      <td>hampstead</td>\n",
       "      <td>nh</td>\n",
       "      <td>us</td>\n",
       "      <td>circle</td>\n",
       "      <td>300.0</td>\n",
       "      <td>5 minutes</td>\n",
       "      <td>Bright lighted object zigzagging through the sky.</td>\n",
       "      <td>2012-08-05</td>\n",
       "      <td>42.874444</td>\n",
       "      <td>-71.181667</td>\n",
       "    </tr>\n",
       "    <tr>\n",
       "      <th>80275</th>\n",
       "      <td>2011-09-09 09:30:00</td>\n",
       "      <td>hampstead</td>\n",
       "      <td>nc</td>\n",
       "      <td>us</td>\n",
       "      <td>diamond</td>\n",
       "      <td>NaN</td>\n",
       "      <td>4-5 min.</td>\n",
       "      <td>Hampstead&amp;#44 N.C 9:30 P.M.  diamond   5 minut...</td>\n",
       "      <td>2011-10-10</td>\n",
       "      <td>34.367500</td>\n",
       "      <td>-77.710833</td>\n",
       "    </tr>\n",
       "    <tr>\n",
       "      <th>80324</th>\n",
       "      <td>2013-09-09 21:00:00</td>\n",
       "      <td>hampstead</td>\n",
       "      <td>nc</td>\n",
       "      <td>NaN</td>\n",
       "      <td>light</td>\n",
       "      <td>NaN</td>\n",
       "      <td>2 minutes</td>\n",
       "      <td>8 to ten lights bright orange in color large t...</td>\n",
       "      <td>2013-09-30</td>\n",
       "      <td>34.367594</td>\n",
       "      <td>-77.710548</td>\n",
       "    </tr>\n",
       "  </tbody>\n",
       "</table>\n",
       "</div>"
      ],
      "text/plain": [
       "           date_ocurrence       city state country     shape  \\\n",
       "1734  1967-10-15 21:00:00  hampstead    nc      us      disk   \n",
       "13610 1998-11-29 01:50:00  hampstead    nc      us  fireball   \n",
       "13892 2013-11-30 18:00:00  hampstead    nh      us    sphere   \n",
       "14113 2008-01-13 05:20:00  hampstead    nh      us     light   \n",
       "14173 2011-01-13 07:30:00  hampstead    nh      us    circle   \n",
       "21011 2005-12-28 15:30:00  hampstead    nh      us    sphere   \n",
       "42919 2009-05-17 22:00:00  hampstead    nc      us  triangle   \n",
       "44222 1991-05-25 21:00:00  hampstead    nh      us      disk   \n",
       "53410 2013-06-03 09:34:00  hampstead    nh      us  triangle   \n",
       "58460 2012-07-20 09:55:00  hampstead    nh      us    circle   \n",
       "80275 2011-09-09 09:30:00  hampstead    nc      us   diamond   \n",
       "80324 2013-09-09 21:00:00  hampstead    nc     NaN     light   \n",
       "\n",
       "       duration_seconds duration_hours_min  \\\n",
       "1734              300.0          5 minutes   \n",
       "13610              18.0          18seconds   \n",
       "13892             900.0         15 minutes   \n",
       "14113             120.0          2 minutes   \n",
       "14173             180.0          3 minutes   \n",
       "21011            1200.0            20 mins   \n",
       "42919             300.0          5 minutes   \n",
       "44222             120.0              2 min   \n",
       "53410               3.0          3 seconds   \n",
       "58460             300.0          5 minutes   \n",
       "80275               NaN           4-5 min.   \n",
       "80324               NaN          2 minutes   \n",
       "\n",
       "                                                comments date_posted  \\\n",
       "1734                  Hampstead North Carolina disk 1967  2012-12-20   \n",
       "13610  As we steped out of our car we saw a fireball ...  1999-01-28   \n",
       "13892  3 red spheres&#44 low hovering over lake. Move...  2013-12-02   \n",
       "14113  Bright Light In Sky Over Rockingham County&#44 NH  2008-01-21   \n",
       "14173  Round shiny extremely bright almost silver-loo...  2011-01-31   \n",
       "21011  2 ballon shaped objects came close and then se...  2006-03-11   \n",
       "42919  Star Destroyer shaped ufo low in the night sky...  2009-12-12   \n",
       "44222  It sailed through the sky directly above our b...  2003-12-19   \n",
       "53410         Green cloudy light shooting across the sky  2013-07-03   \n",
       "58460  Bright lighted object zigzagging through the sky.  2012-08-05   \n",
       "80275  Hampstead&#44 N.C 9:30 P.M.  diamond   5 minut...  2011-10-10   \n",
       "80324  8 to ten lights bright orange in color large t...  2013-09-30   \n",
       "\n",
       "        latitude  longitude  \n",
       "1734   34.367500 -77.710833  \n",
       "13610  34.367500 -77.710833  \n",
       "13892  42.874444 -71.181667  \n",
       "14113  42.874444 -71.181667  \n",
       "14173  42.874444 -71.181667  \n",
       "21011  42.874444 -71.181667  \n",
       "42919  34.367500 -77.710833  \n",
       "44222  42.874444 -71.181667  \n",
       "53410  42.874444 -71.181667  \n",
       "58460  42.874444 -71.181667  \n",
       "80275  34.367500 -77.710833  \n",
       "80324  34.367594 -77.710548  "
      ]
     },
     "execution_count": 113,
     "metadata": {},
     "output_type": "execute_result"
    }
   ],
   "source": [
    "df.at[80324,'city']=\"hampstead\"\n",
    "df[df['city'] == \"hampstead\"]"
   ]
  },
  {
   "cell_type": "code",
   "execution_count": 114,
   "metadata": {},
   "outputs": [
    {
     "data": {
      "text/plain": [
       "array(['tx', nan, 'hi', 'tn', 'ct', 'al', 'fl', 'ca', 'nc', 'ny', 'ky',\n",
       "       'mi', 'ma', 'ks', 'sc', 'wa', 'ab', 'co', 'nh', 'wi', 'me', 'ga',\n",
       "       'pa', 'il', 'ar', 'on', 'mo', 'oh', 'in', 'az', 'mn', 'nv', 'nf',\n",
       "       'ne', 'or', 'bc', 'ia', 'va', 'id', 'nm', 'nj', 'mb', 'wv', 'ok',\n",
       "       'ri', 'nb', 'vt', 'la', 'pr', 'ak', 'ms', 'ut', 'md', 'mt', 'sk',\n",
       "       'wy', 'sd', 'pq', 'ns', 'qc', 'de', 'nd', 'dc', 'nt', 'sa', 'yt',\n",
       "       'yk', 'pe'], dtype=object)"
      ]
     },
     "execution_count": 114,
     "metadata": {},
     "output_type": "execute_result"
    }
   ],
   "source": [
    "df['state'].unique()"
   ]
  },
  {
   "cell_type": "code",
   "execution_count": 115,
   "metadata": {},
   "outputs": [
    {
     "data": {
      "text/plain": [
       "ca    9655\n",
       "wa    4268\n",
       "fl    4200\n",
       "tx    3677\n",
       "ny    3219\n",
       "      ... \n",
       "nf      25\n",
       "nt      20\n",
       "pe      17\n",
       "yt      13\n",
       "yk       7\n",
       "Name: state, Length: 67, dtype: int64"
      ]
     },
     "execution_count": 115,
     "metadata": {},
     "output_type": "execute_result"
    }
   ],
   "source": [
    "df['state'].value_counts()\n"
   ]
  },
  {
   "cell_type": "code",
   "execution_count": 116,
   "metadata": {},
   "outputs": [
    {
     "data": {
      "text/plain": [
       "us    65114\n",
       "ca     3000\n",
       "gb     1905\n",
       "au      538\n",
       "de      105\n",
       "Name: country, dtype: int64"
      ]
     },
     "execution_count": 116,
     "metadata": {},
     "output_type": "execute_result"
    }
   ],
   "source": [
    "df['country'].value_counts()"
   ]
  },
  {
   "cell_type": "code",
   "execution_count": 117,
   "metadata": {},
   "outputs": [
    {
     "data": {
      "text/plain": [
       "2009-12-12    1510\n",
       "2006-10-30    1408\n",
       "2010-11-21    1237\n",
       "2008-10-31    1164\n",
       "2009-03-19    1098\n",
       "              ... \n",
       "2004-03-01       4\n",
       "2003-01-20       2\n",
       "1999-05-23       2\n",
       "2003-01-10       1\n",
       "2002-03-25       1\n",
       "Name: date_posted, Length: 317, dtype: int64"
      ]
     },
     "execution_count": 117,
     "metadata": {},
     "output_type": "execute_result"
    }
   ],
   "source": [
    "df['date_posted'].value_counts()\n"
   ]
  },
  {
   "cell_type": "code",
   "execution_count": 118,
   "metadata": {},
   "outputs": [
    {
     "data": {
      "text/plain": [
       "2010-07-04 22:00:00    36\n",
       "2012-07-04 22:00:00    31\n",
       "1999-11-16 19:00:00    27\n",
       "2009-09-19 20:00:00    26\n",
       "2011-07-04 22:00:00    25\n",
       "                       ..\n",
       "2008-02-21 01:38:00     1\n",
       "2008-02-21 02:00:00     1\n",
       "2008-02-21 07:00:00     1\n",
       "2008-02-21 09:45:00     1\n",
       "2013-09-09 23:00:00     1\n",
       "Name: date_ocurrence, Length: 69474, dtype: int64"
      ]
     },
     "execution_count": 118,
     "metadata": {},
     "output_type": "execute_result"
    }
   ],
   "source": [
    "df['date_ocurrence'].value_counts()"
   ]
  },
  {
   "cell_type": "code",
   "execution_count": 119,
   "metadata": {},
   "outputs": [
    {
     "data": {
      "text/plain": [
       "array(['cylinder', 'light', 'circle', 'sphere', 'disk', 'fireball',\n",
       "       'unknown', 'oval', 'other', 'cigar', 'rectangle', 'chevron',\n",
       "       'triangle', 'formation', nan, 'delta', 'changing', 'egg',\n",
       "       'diamond', 'flash', 'teardrop', 'cone', 'cross', 'pyramid',\n",
       "       'round', 'crescent', 'flare', 'hexagon', 'dome', 'changed'],\n",
       "      dtype=object)"
      ]
     },
     "execution_count": 119,
     "metadata": {},
     "output_type": "execute_result"
    }
   ],
   "source": [
    "# List unique values of \"shape\" fyi\n",
    "df[\"shape\"].unique()"
   ]
  },
  {
   "cell_type": "code",
   "execution_count": 120,
   "metadata": {},
   "outputs": [],
   "source": [
    "df_comments=pd.DataFrame(index=df.index)\n"
   ]
  },
  {
   "cell_type": "code",
   "execution_count": 121,
   "metadata": {},
   "outputs": [],
   "source": [
    "df_comments['date_ocurrence']=df['date_ocurrence']"
   ]
  },
  {
   "cell_type": "code",
   "execution_count": 122,
   "metadata": {},
   "outputs": [],
   "source": [
    "df_comments[['latitude','longitude','comments']]=df[['latitude','longitude','comments']]"
   ]
  },
  {
   "cell_type": "code",
   "execution_count": 123,
   "metadata": {},
   "outputs": [
    {
     "data": {
      "text/html": [
       "<div>\n",
       "<style scoped>\n",
       "    .dataframe tbody tr th:only-of-type {\n",
       "        vertical-align: middle;\n",
       "    }\n",
       "\n",
       "    .dataframe tbody tr th {\n",
       "        vertical-align: top;\n",
       "    }\n",
       "\n",
       "    .dataframe thead th {\n",
       "        text-align: right;\n",
       "    }\n",
       "</style>\n",
       "<table border=\"1\" class=\"dataframe\">\n",
       "  <thead>\n",
       "    <tr style=\"text-align: right;\">\n",
       "      <th></th>\n",
       "      <th>date_ocurrence</th>\n",
       "      <th>latitude</th>\n",
       "      <th>longitude</th>\n",
       "      <th>comments</th>\n",
       "    </tr>\n",
       "  </thead>\n",
       "  <tbody>\n",
       "    <tr>\n",
       "      <th>0</th>\n",
       "      <td>1949-10-10 20:30:00</td>\n",
       "      <td>29.883056</td>\n",
       "      <td>-97.941111</td>\n",
       "      <td>This event took place in early fall around 194...</td>\n",
       "    </tr>\n",
       "    <tr>\n",
       "      <th>1</th>\n",
       "      <td>1949-10-10 21:00:00</td>\n",
       "      <td>29.384210</td>\n",
       "      <td>-98.581082</td>\n",
       "      <td>1949 Lackland AFB&amp;#44 TX.  Lights racing acros...</td>\n",
       "    </tr>\n",
       "    <tr>\n",
       "      <th>2</th>\n",
       "      <td>1955-10-10 17:00:00</td>\n",
       "      <td>53.200000</td>\n",
       "      <td>-2.916667</td>\n",
       "      <td>Green/Orange circular disc over Chester&amp;#44 En...</td>\n",
       "    </tr>\n",
       "    <tr>\n",
       "      <th>3</th>\n",
       "      <td>1956-10-10 21:00:00</td>\n",
       "      <td>28.978333</td>\n",
       "      <td>-96.645833</td>\n",
       "      <td>My older brother and twin sister were leaving ...</td>\n",
       "    </tr>\n",
       "    <tr>\n",
       "      <th>4</th>\n",
       "      <td>1960-10-10 20:00:00</td>\n",
       "      <td>21.418056</td>\n",
       "      <td>-157.803611</td>\n",
       "      <td>AS a Marine 1st Lt. flying an FJ4B fighter/att...</td>\n",
       "    </tr>\n",
       "    <tr>\n",
       "      <th>...</th>\n",
       "      <td>...</td>\n",
       "      <td>...</td>\n",
       "      <td>...</td>\n",
       "      <td>...</td>\n",
       "    </tr>\n",
       "    <tr>\n",
       "      <th>80327</th>\n",
       "      <td>2013-09-09 21:15:00</td>\n",
       "      <td>36.165833</td>\n",
       "      <td>-86.784444</td>\n",
       "      <td>Round from the distance/slowly changing colors...</td>\n",
       "    </tr>\n",
       "    <tr>\n",
       "      <th>80328</th>\n",
       "      <td>2013-09-09 22:00:00</td>\n",
       "      <td>43.613611</td>\n",
       "      <td>-116.202500</td>\n",
       "      <td>Boise&amp;#44 ID&amp;#44 spherical&amp;#44 20 min&amp;#44 10 r...</td>\n",
       "    </tr>\n",
       "    <tr>\n",
       "      <th>80329</th>\n",
       "      <td>2013-09-09 22:00:00</td>\n",
       "      <td>38.297222</td>\n",
       "      <td>-122.284444</td>\n",
       "      <td>Napa UFO&amp;#44</td>\n",
       "    </tr>\n",
       "    <tr>\n",
       "      <th>80330</th>\n",
       "      <td>2013-09-09 22:20:00</td>\n",
       "      <td>38.901111</td>\n",
       "      <td>-77.265556</td>\n",
       "      <td>Saw a five gold lit cicular craft moving fastl...</td>\n",
       "    </tr>\n",
       "    <tr>\n",
       "      <th>80331</th>\n",
       "      <td>2013-09-09 23:00:00</td>\n",
       "      <td>35.652778</td>\n",
       "      <td>-97.477778</td>\n",
       "      <td>2 witnesses 2  miles apart&amp;#44 Red &amp;amp; White...</td>\n",
       "    </tr>\n",
       "  </tbody>\n",
       "</table>\n",
       "<p>80332 rows × 4 columns</p>\n",
       "</div>"
      ],
      "text/plain": [
       "           date_ocurrence   latitude   longitude  \\\n",
       "0     1949-10-10 20:30:00  29.883056  -97.941111   \n",
       "1     1949-10-10 21:00:00  29.384210  -98.581082   \n",
       "2     1955-10-10 17:00:00  53.200000   -2.916667   \n",
       "3     1956-10-10 21:00:00  28.978333  -96.645833   \n",
       "4     1960-10-10 20:00:00  21.418056 -157.803611   \n",
       "...                   ...        ...         ...   \n",
       "80327 2013-09-09 21:15:00  36.165833  -86.784444   \n",
       "80328 2013-09-09 22:00:00  43.613611 -116.202500   \n",
       "80329 2013-09-09 22:00:00  38.297222 -122.284444   \n",
       "80330 2013-09-09 22:20:00  38.901111  -77.265556   \n",
       "80331 2013-09-09 23:00:00  35.652778  -97.477778   \n",
       "\n",
       "                                                comments  \n",
       "0      This event took place in early fall around 194...  \n",
       "1      1949 Lackland AFB&#44 TX.  Lights racing acros...  \n",
       "2      Green/Orange circular disc over Chester&#44 En...  \n",
       "3      My older brother and twin sister were leaving ...  \n",
       "4      AS a Marine 1st Lt. flying an FJ4B fighter/att...  \n",
       "...                                                  ...  \n",
       "80327  Round from the distance/slowly changing colors...  \n",
       "80328  Boise&#44 ID&#44 spherical&#44 20 min&#44 10 r...  \n",
       "80329                                       Napa UFO&#44  \n",
       "80330  Saw a five gold lit cicular craft moving fastl...  \n",
       "80331  2 witnesses 2  miles apart&#44 Red &amp; White...  \n",
       "\n",
       "[80332 rows x 4 columns]"
      ]
     },
     "execution_count": 123,
     "metadata": {},
     "output_type": "execute_result"
    }
   ],
   "source": [
    "df_comments"
   ]
  },
  {
   "cell_type": "code",
   "execution_count": 124,
   "metadata": {},
   "outputs": [],
   "source": [
    "df.drop(columns=['comments'], inplace=True)"
   ]
  },
  {
   "cell_type": "code",
   "execution_count": 125,
   "metadata": {},
   "outputs": [],
   "source": [
    "df.to_csv(\"UFO_cleaned.csv\", index=True, encoding=\"UTF-8\")\n",
    "df_comments.to_csv(\"UFO_comments.csv\", index=True, encoding=\"UTF-8\")"
   ]
  }
 ],
 "metadata": {
  "kernelspec": {
   "display_name": "base",
   "language": "python",
   "name": "python3"
  },
  "language_info": {
   "codemirror_mode": {
    "name": "ipython",
    "version": 3
   },
   "file_extension": ".py",
   "mimetype": "text/x-python",
   "name": "python",
   "nbconvert_exporter": "python",
   "pygments_lexer": "ipython3",
   "version": "3.9.13"
  }
 },
 "nbformat": 4,
 "nbformat_minor": 2
}
